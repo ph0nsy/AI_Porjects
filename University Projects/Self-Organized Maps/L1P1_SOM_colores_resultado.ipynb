{
  "cells": [
    {
      "cell_type": "markdown",
      "metadata": {
        "id": "Dx84CEDnIBf0"
      },
      "source": [
        "# Práctica 1 - Self-Organising Maps - COLORES\n",
        "## Introducción\n",
        "\n",
        "Un SOM es un tipo de red neuronal no supervisada planteada por el Profesor Teuvo Kohonen en los 80 inspirada en modelos\n",
        "biológicos de sistemas neuronales. Se utilizan para mapear datos multidimensionales en menores dimensiones permitiendo\n",
        "reducir problemas complejos a simples mediantes técnicas de reducción de dimensionalidad y clusterización.\n",
        "\n",
        "La mayor desventaja de un SOM es que requiere que los pesos de las neuronas se hayan entrenado de manera suficiente\n",
        "para poder clasificar las entradas. Por tanto, cuando un SOM recibe muy poca información o una gran cantidad de información\n",
        "redundante, las agrupaciones resultantes pueden no resultar completamente correctos.\n",
        "\n",
        "---\n",
        "\n",
        "Describamos un SOM con un ejemplo. Obtenemos la siguiente tabla como **valores de entrada** con 3 dimensiones y queremos\n",
        "oganizarla en un mapa bidimensional:\n",
        "\n",
        "|| R | G | B |-|| R | G | B |\n",
        "| :----: | :----: | :----: | :----: | :----: | :----: | :----: | :----: | :----: |\n",
        "|1| 0 | 0 | 0 |-|5| 255 | 255 | 0 |\n",
        "|2| 255 | 0 | 0 |-|6| 255 | 0 | 255 |\n",
        "|3| 0 | 255 | 0 |-|7| 0 | 255 | 255 |\n",
        "|4| 0 | 0 | 255 |-|8| 255 | 255 | 255 |\n",
        "\n",
        "Entonces, la **red neuronal** serviría como mapa bidimensional, continiendo en cada una de sus posiciones una neurona con su vector\n",
        "de pesos (representando este un valor RGB). Este vector de pesos determinará la neurona ganadora para cada entrada de la tabla y la\n",
        "forma en la que actualizarse, según su posición.\n",
        "\n",
        "El resultado en este caso debería agrupar los valores con un solo 255 (o ninguno) alejados entre ellos y los valores con varios 255\n",
        "cerca de las neuronas de los grupos que le componen (por ejemplo, la quinta entrada se encontrará entre la neurona que represente a la\n",
        "segunda entrada y la tercera entrada).\n",
        "\n",
        "## Origen\n",
        "\n",
        "El algoritmo SOM surgió de los primeros modelos de redes neuronales, especialmente modelos de memoria asociativa y aprendizaje adaptativo (cf. Kohonen 1984). Un nuevo incentivo fue explicar la organización espacial de las funciones del cerebro, como se observa especialmente en la corteza cerebral. Sin embargo, el SOM no fue el primer paso en esa dirección: hay que mencionar al menos los detectores lineales espacialmente ordenados de von der Malsburg (1973) y el modelo de campo neural de Amari (1980).\n",
        "\n",
        "Sin embargo, el poder de autoorganización de estos primeros modelos era bastante débil. La invención crucial de Kohonen fue introducir un modelo de sistema que se compone de al menos dos subsistemas que interactúan de diferentes naturalezas. Uno de estos subsistemas es una red neuronal competitiva que implementa la función de que el ganador se lo lleva todo, pero también existe otro subsistema que es controlado por la red neuronal y que modifica la plasticidad sináptica local de las neuronas en el aprendizaje. El aprendizaje se restringe espacialmente a la vecindad local de las neuronas más activas. El subsistema de control de plasticidad podría estar basado en interacciones neuronales no específicas, pero lo más probable es que sea un efecto de control químico. Solo mediante la separación de la transferencia de señales neuronales y el control de la plasticidad ha sido posible implementar un sistema de autoorganización eficaz y robusto.\n",
        "\n",
        "No obstante, el principio SOM también se puede expresar matemáticamente en forma puramente abstracta, sin referencia a ningún componente neural subyacente o de otro tipo. La primera área de aplicación del SOM fue el reconocimiento de voz (ver Figura 2). En su forma abstracta, el SOM se ha generalizado en el análisis y la exploración de datos, que es para lo que lo utilizaremos nosotros.\n",
        "\n",
        "## Componentes\n",
        "\n",
        "Un *SOM* está compuesto por 2 capas:\n",
        "\n",
        "- Una **capa de entrada** monodimensional con N neuronas, donde N es el número de componentes de los vectores que se le presentan a la red.\n",
        "- Una **capa de Kohonen** (capa de salida) una capa multidimensional interconectada completamente con la capa anterior cuyas conexiones determinan que neurona se activa y, por tanto, que neurona se asocia a ese patron.\n",
        "\n",
        "<img src=\"https://cybernetist.com/images/som_representation.jpg\" alt=\"Capas\" width=\"500\" style=\"display: block; margin: 0 auto; border: solid 5px black\"/>\n",
        "\n",
        "<br>\n",
        "\n",
        "A la hora de implementar estas capas, deberemos considerar los siguientes elementos:\n",
        "\n",
        "- Una `matriz multidimensional de neuronas` que procesa patrones que le llegan desde un *array de neuronas de entrada* (tantas entradas como componentes tienen los patrones).\n",
        "- Una `función discriminante` calculada a partir de un patrón de entrada y los pesos de cada una de las neuronas de la matriz (por ejemplo, la distancia euclídea).\n",
        "- Un `mecanismo de competición` que compara las funciones discriminantes de todas las neuronas y selecciona aquella con el mejor valor de la función (BMU).\n",
        "- Un `mecanismo de cooperación` por interacción local que active simultáneamente la neurona seleccionada y sus *vecinas*.\n",
        "- Un `mecanismo de adaptación` en virtud del cual los parámetros de las neuronas activas aumentan su *función discriminante* en relación a la entrada actual.\n",
        "\n",
        "## Algoritmo\n",
        "\n",
        "El algoritmo sobre el que se basa la implementación de un SOM; es decir, los pasos a seguir, es el siguiente:\n",
        "\n",
        "```markdown\n",
        "Inicializamos los pesos\n",
        "Para 1 hasta N iteraciones:\n",
        "    Seleccionamos el ejemplo sobre el que entrenar\n",
        "    Calculamos la neurona ganadora\n",
        "    Actualizamos el vector de dicha neurona\n",
        "Clusterizamos (clasificamos) el resultado\n",
        "```\n",
        "---\n",
        "\n",
        "**`Inicializar pesos`**\n",
        "\n",
        "Podemos inicializar los pesos con valores aleatorios que, además, se pueden normalizar mediante:\n",
        "\n",
        "> $$w_{ij}=\\frac{w'_{ij}}{[\\sum_{i=1}^{N}(w'_{ij})^2]^{1/2}}$$\n",
        "\n",
        "**`Calcular la neurona ganadora`**\n",
        "\n",
        "Para calcular la neurona ganadora, utilizamos una función discriminante con forma:\n",
        "\n",
        "> $$D_{j} = \\left \\| X - W_{j} \\right \\| = \\sqrt{ \\sum_{i=1}^{N}( x_{i} - w_{ij} )^2}$$\n",
        "\n",
        "Que nos permite calcular la distancia euclidea entre la entrada y cada una de las neuronas de la capa de Kohonen. En caso que los vectores estén normalizados con la norma euclidea esta sería:\n",
        "\n",
        "> $$E = XW_{j} = \\sum_{i=1}^{N}( x_{i}w_{ij} )$$\n",
        "\n",
        "Una vez tengamos todas las distancias, activamos aquella neurona que se encuentre más cercana a la entrada; siendo por tanto una salida binaria (se activa o no):\n",
        "\n",
        "> $$O_{j} =  \\begin{cases} & 1\\text{ if } x=\\min(D_{j}) \\\\  & 0\\text{ if } x\\neq\\min(D_{j})\\end{cases}$$\n",
        "> $$ para\\,\\, datos\\,\\,sin\\,\\,normalizar\\,\\,y $$\n",
        "> $$O_{j} =  \\begin{cases} & 1\\text{ if } x=\\max(E_{j}) \\\\  & 0\\text{ if } x\\neq\\max(E_{j})\\end{cases}$$\n",
        "> $$\\,\\, para\\,\\, datos\\,\\, normalizados$$\n",
        "\n",
        "**`Actuaizar la neurona`**\n",
        "\n",
        "La neurona activada en el caso anterior será ajustada acorde a un coeficiente de aprendizaje, $\\eta$; según la Regla de Aprendizaje Competitivo, $\\Delta W_{ij}$, que se aplica sobre el vector de pesos de la neurona ganadora como:\n",
        "\n",
        "> $$\\Delta W_{ij} = \\eta(t)(X_{i}-W_{ij})$$\n",
        "\n",
        "Una vez ajustados los pesos de la neurona ganadora, debemos ajustar los pesos de su *vecindario*. Para ello deberemos determinar qué neuronas modificar; es decir, cuales pertenecen al *vecindario*, y cuánto debemos modificarlas. Podemos encontrar las neuronas vecinas mediante cuadrados concéntricos, rombos, u otros polinomios; también podemos hacerlo mediante funciones Gaussianas o Sombrero Mexicano.\n",
        "\n",
        "A la hora de modificar los pesos de las neuronas, la función que se utilize, normalmente, modifica en menor manera los pesos de la neurona cuanto más nos alejamos de la ganadora; haciendo que las neuronas del *vecindario* más cercanas a la ganadora sean modificadas hacia la entrada más que aquellas que se encuentren más alejadas, creando agrupaciones de neuronas en el resultado final.\n",
        "\n",
        "A la hora de implementar este proceso, modificaremos la función que calcula el cambio de los pesos de la neurona para que cuente con la siguiente función de amortiguación:\n",
        "\n",
        "> $$a_{j}=e^\\frac{d_{j}^2}{2v_{t}^2}$$\n",
        "\n",
        "Quedando por tanto, la siguiente ecuación de aprendizaje para las neuronas que no sean la BMU; es decir, todas menos la ganadora.\n",
        "\n",
        "> $$W_{ij}^{t+1}=W_{ij}^{t}+\\eta(t)a_{j}(X_{j}-W_{ij}^{t})$$\n",
        "\n",
        "**`Cambios por epoch (iteración)`**\n",
        "\n",
        "- Variación del coeficiente de aprendizaje: $\\eta(t)=\\eta_{0}(1-\\frac{t}{t_{f}})$\n",
        "- Variación del vecindario: $v(t) = 1+v_{0}(1-\\frac{t}{t_{f}})$\n",
        "- Amortiguación: al depender del valor del vecindario ($v{t}$) variará con cada iteración\n",
        "\n",
        "# Refuerzo\n",
        "\n",
        "Una vez completado el proceso de aprendizaje podemos repetirlo reduciendo el learning rate ($\\eta$) mediante la multiplicación del mismo por un parámetro $\\eta_{shrink}$. A su vez, ampliaremos el valor del número de iteraciones ($t_{f}$) multiplicándolo por un parámetro $T_{factor}$; quedando por tanto que, cada vez que repitamos el proceso, deberemos hacer:\n",
        "\n",
        "> $$\\eta_{o} = \\eta_{o}\\,\\eta_{shrink}$$\n",
        "> $$y$$\n",
        "> $$p = p\\,T_{factor}$$\n",
        "\n",
        "\n",
        "## Preparación de entorno\n",
        "### Importar librerías de código\n"
      ]
    },
    {
      "cell_type": "code",
      "execution_count": null,
      "metadata": {
        "scrolled": true,
        "id": "13lQPYXRIBf4",
        "colab": {
          "base_uri": "https://localhost:8080/",
          "height": 484
        },
        "outputId": "12017331-2e23-4d2e-f85b-0a53b8e898da"
      },
      "outputs": [
        {
          "output_type": "stream",
          "name": "stdout",
          "text": [
            "Warning: Cannot change to a different GUI toolkit: notebook. Using widget instead.\n"
          ]
        },
        {
          "output_type": "error",
          "ename": "ModuleNotFoundError",
          "evalue": "ignored",
          "traceback": [
            "\u001b[0;31m---------------------------------------------------------------------------\u001b[0m",
            "\u001b[0;31mModuleNotFoundError\u001b[0m                       Traceback (most recent call last)",
            "\u001b[0;32m<ipython-input-62-ee506dea3ea7>\u001b[0m in \u001b[0;36m<module>\u001b[0;34m\u001b[0m\n\u001b[1;32m     25\u001b[0m \u001b[0;32mfrom\u001b[0m \u001b[0mmatplotlib\u001b[0m \u001b[0;32mimport\u001b[0m \u001b[0mpatches\u001b[0m \u001b[0;32mas\u001b[0m \u001b[0mpatches\u001b[0m\u001b[0;34m\u001b[0m\u001b[0;34m\u001b[0m\u001b[0m\n\u001b[1;32m     26\u001b[0m \u001b[0;32mfrom\u001b[0m \u001b[0mmatplotlib\u001b[0m \u001b[0;32mimport\u001b[0m \u001b[0mcm\u001b[0m\u001b[0;34m\u001b[0m\u001b[0;34m\u001b[0m\u001b[0m\n\u001b[0;32m---> 27\u001b[0;31m \u001b[0mget_ipython\u001b[0m\u001b[0;34m(\u001b[0m\u001b[0;34m)\u001b[0m\u001b[0;34m.\u001b[0m\u001b[0mrun_line_magic\u001b[0m\u001b[0;34m(\u001b[0m\u001b[0;34m'matplotlib'\u001b[0m\u001b[0;34m,\u001b[0m \u001b[0;34m'notebook'\u001b[0m\u001b[0;34m)\u001b[0m\u001b[0;34m\u001b[0m\u001b[0;34m\u001b[0m\u001b[0m\n\u001b[0m\u001b[1;32m     28\u001b[0m \u001b[0;34m\u001b[0m\u001b[0m\n\u001b[1;32m     29\u001b[0m \u001b[0;31m# Librería para el uso de gráficos interactivos\u001b[0m\u001b[0;34m\u001b[0m\u001b[0;34m\u001b[0m\u001b[0;34m\u001b[0m\u001b[0m\n",
            "\u001b[0;32m/usr/local/lib/python3.8/dist-packages/IPython/core/interactiveshell.py\u001b[0m in \u001b[0;36mrun_line_magic\u001b[0;34m(self, magic_name, line, _stack_depth)\u001b[0m\n\u001b[1;32m   2312\u001b[0m                 \u001b[0mkwargs\u001b[0m\u001b[0;34m[\u001b[0m\u001b[0;34m'local_ns'\u001b[0m\u001b[0;34m]\u001b[0m \u001b[0;34m=\u001b[0m \u001b[0msys\u001b[0m\u001b[0;34m.\u001b[0m\u001b[0m_getframe\u001b[0m\u001b[0;34m(\u001b[0m\u001b[0mstack_depth\u001b[0m\u001b[0;34m)\u001b[0m\u001b[0;34m.\u001b[0m\u001b[0mf_locals\u001b[0m\u001b[0;34m\u001b[0m\u001b[0;34m\u001b[0m\u001b[0m\n\u001b[1;32m   2313\u001b[0m             \u001b[0;32mwith\u001b[0m \u001b[0mself\u001b[0m\u001b[0;34m.\u001b[0m\u001b[0mbuiltin_trap\u001b[0m\u001b[0;34m:\u001b[0m\u001b[0;34m\u001b[0m\u001b[0;34m\u001b[0m\u001b[0m\n\u001b[0;32m-> 2314\u001b[0;31m                 \u001b[0mresult\u001b[0m \u001b[0;34m=\u001b[0m \u001b[0mfn\u001b[0m\u001b[0;34m(\u001b[0m\u001b[0;34m*\u001b[0m\u001b[0margs\u001b[0m\u001b[0;34m,\u001b[0m \u001b[0;34m**\u001b[0m\u001b[0mkwargs\u001b[0m\u001b[0;34m)\u001b[0m\u001b[0;34m\u001b[0m\u001b[0;34m\u001b[0m\u001b[0m\n\u001b[0m\u001b[1;32m   2315\u001b[0m             \u001b[0;32mreturn\u001b[0m \u001b[0mresult\u001b[0m\u001b[0;34m\u001b[0m\u001b[0;34m\u001b[0m\u001b[0m\n\u001b[1;32m   2316\u001b[0m \u001b[0;34m\u001b[0m\u001b[0m\n",
            "\u001b[0;32m<decorator-gen-101>\u001b[0m in \u001b[0;36mmatplotlib\u001b[0;34m(self, line)\u001b[0m\n",
            "\u001b[0;32m/usr/local/lib/python3.8/dist-packages/IPython/core/magic.py\u001b[0m in \u001b[0;36m<lambda>\u001b[0;34m(f, *a, **k)\u001b[0m\n\u001b[1;32m    185\u001b[0m     \u001b[0;31m# but it's overkill for just that one bit of state.\u001b[0m\u001b[0;34m\u001b[0m\u001b[0;34m\u001b[0m\u001b[0;34m\u001b[0m\u001b[0m\n\u001b[1;32m    186\u001b[0m     \u001b[0;32mdef\u001b[0m \u001b[0mmagic_deco\u001b[0m\u001b[0;34m(\u001b[0m\u001b[0marg\u001b[0m\u001b[0;34m)\u001b[0m\u001b[0;34m:\u001b[0m\u001b[0;34m\u001b[0m\u001b[0;34m\u001b[0m\u001b[0m\n\u001b[0;32m--> 187\u001b[0;31m         \u001b[0mcall\u001b[0m \u001b[0;34m=\u001b[0m \u001b[0;32mlambda\u001b[0m \u001b[0mf\u001b[0m\u001b[0;34m,\u001b[0m \u001b[0;34m*\u001b[0m\u001b[0ma\u001b[0m\u001b[0;34m,\u001b[0m \u001b[0;34m**\u001b[0m\u001b[0mk\u001b[0m\u001b[0;34m:\u001b[0m \u001b[0mf\u001b[0m\u001b[0;34m(\u001b[0m\u001b[0;34m*\u001b[0m\u001b[0ma\u001b[0m\u001b[0;34m,\u001b[0m \u001b[0;34m**\u001b[0m\u001b[0mk\u001b[0m\u001b[0;34m)\u001b[0m\u001b[0;34m\u001b[0m\u001b[0;34m\u001b[0m\u001b[0m\n\u001b[0m\u001b[1;32m    188\u001b[0m \u001b[0;34m\u001b[0m\u001b[0m\n\u001b[1;32m    189\u001b[0m         \u001b[0;32mif\u001b[0m \u001b[0mcallable\u001b[0m\u001b[0;34m(\u001b[0m\u001b[0marg\u001b[0m\u001b[0;34m)\u001b[0m\u001b[0;34m:\u001b[0m\u001b[0;34m\u001b[0m\u001b[0;34m\u001b[0m\u001b[0m\n",
            "\u001b[0;32m/usr/local/lib/python3.8/dist-packages/IPython/core/magics/pylab.py\u001b[0m in \u001b[0;36mmatplotlib\u001b[0;34m(self, line)\u001b[0m\n\u001b[1;32m     97\u001b[0m             \u001b[0mprint\u001b[0m\u001b[0;34m(\u001b[0m\u001b[0;34m\"Available matplotlib backends: %s\"\u001b[0m \u001b[0;34m%\u001b[0m \u001b[0mbackends_list\u001b[0m\u001b[0;34m)\u001b[0m\u001b[0;34m\u001b[0m\u001b[0;34m\u001b[0m\u001b[0m\n\u001b[1;32m     98\u001b[0m         \u001b[0;32melse\u001b[0m\u001b[0;34m:\u001b[0m\u001b[0;34m\u001b[0m\u001b[0;34m\u001b[0m\u001b[0m\n\u001b[0;32m---> 99\u001b[0;31m             \u001b[0mgui\u001b[0m\u001b[0;34m,\u001b[0m \u001b[0mbackend\u001b[0m \u001b[0;34m=\u001b[0m \u001b[0mself\u001b[0m\u001b[0;34m.\u001b[0m\u001b[0mshell\u001b[0m\u001b[0;34m.\u001b[0m\u001b[0menable_matplotlib\u001b[0m\u001b[0;34m(\u001b[0m\u001b[0margs\u001b[0m\u001b[0;34m.\u001b[0m\u001b[0mgui\u001b[0m\u001b[0;34m.\u001b[0m\u001b[0mlower\u001b[0m\u001b[0;34m(\u001b[0m\u001b[0;34m)\u001b[0m \u001b[0;32mif\u001b[0m \u001b[0misinstance\u001b[0m\u001b[0;34m(\u001b[0m\u001b[0margs\u001b[0m\u001b[0;34m.\u001b[0m\u001b[0mgui\u001b[0m\u001b[0;34m,\u001b[0m \u001b[0mstr\u001b[0m\u001b[0;34m)\u001b[0m \u001b[0;32melse\u001b[0m \u001b[0margs\u001b[0m\u001b[0;34m.\u001b[0m\u001b[0mgui\u001b[0m\u001b[0;34m)\u001b[0m\u001b[0;34m\u001b[0m\u001b[0;34m\u001b[0m\u001b[0m\n\u001b[0m\u001b[1;32m    100\u001b[0m             \u001b[0mself\u001b[0m\u001b[0;34m.\u001b[0m\u001b[0m_show_matplotlib_backend\u001b[0m\u001b[0;34m(\u001b[0m\u001b[0margs\u001b[0m\u001b[0;34m.\u001b[0m\u001b[0mgui\u001b[0m\u001b[0;34m,\u001b[0m \u001b[0mbackend\u001b[0m\u001b[0;34m)\u001b[0m\u001b[0;34m\u001b[0m\u001b[0;34m\u001b[0m\u001b[0m\n\u001b[1;32m    101\u001b[0m \u001b[0;34m\u001b[0m\u001b[0m\n",
            "\u001b[0;32m/usr/local/lib/python3.8/dist-packages/IPython/core/interactiveshell.py\u001b[0m in \u001b[0;36menable_matplotlib\u001b[0;34m(self, gui)\u001b[0m\n\u001b[1;32m   3412\u001b[0m                 \u001b[0mgui\u001b[0m\u001b[0;34m,\u001b[0m \u001b[0mbackend\u001b[0m \u001b[0;34m=\u001b[0m \u001b[0mpt\u001b[0m\u001b[0;34m.\u001b[0m\u001b[0mfind_gui_and_backend\u001b[0m\u001b[0;34m(\u001b[0m\u001b[0mself\u001b[0m\u001b[0;34m.\u001b[0m\u001b[0mpylab_gui_select\u001b[0m\u001b[0;34m)\u001b[0m\u001b[0;34m\u001b[0m\u001b[0;34m\u001b[0m\u001b[0m\n\u001b[1;32m   3413\u001b[0m \u001b[0;34m\u001b[0m\u001b[0m\n\u001b[0;32m-> 3414\u001b[0;31m         \u001b[0mpt\u001b[0m\u001b[0;34m.\u001b[0m\u001b[0mactivate_matplotlib\u001b[0m\u001b[0;34m(\u001b[0m\u001b[0mbackend\u001b[0m\u001b[0;34m)\u001b[0m\u001b[0;34m\u001b[0m\u001b[0;34m\u001b[0m\u001b[0m\n\u001b[0m\u001b[1;32m   3415\u001b[0m         \u001b[0mpt\u001b[0m\u001b[0;34m.\u001b[0m\u001b[0mconfigure_inline_support\u001b[0m\u001b[0;34m(\u001b[0m\u001b[0mself\u001b[0m\u001b[0;34m,\u001b[0m \u001b[0mbackend\u001b[0m\u001b[0;34m)\u001b[0m\u001b[0;34m\u001b[0m\u001b[0;34m\u001b[0m\u001b[0m\n\u001b[1;32m   3416\u001b[0m \u001b[0;34m\u001b[0m\u001b[0m\n",
            "\u001b[0;32m/usr/local/lib/python3.8/dist-packages/IPython/core/pylabtools.py\u001b[0m in \u001b[0;36mactivate_matplotlib\u001b[0;34m(backend)\u001b[0m\n\u001b[1;32m    312\u001b[0m \u001b[0;34m\u001b[0m\u001b[0m\n\u001b[1;32m    313\u001b[0m     \u001b[0;32mimport\u001b[0m \u001b[0mmatplotlib\u001b[0m\u001b[0;34m.\u001b[0m\u001b[0mpyplot\u001b[0m\u001b[0;34m\u001b[0m\u001b[0;34m\u001b[0m\u001b[0m\n\u001b[0;32m--> 314\u001b[0;31m     \u001b[0mmatplotlib\u001b[0m\u001b[0;34m.\u001b[0m\u001b[0mpyplot\u001b[0m\u001b[0;34m.\u001b[0m\u001b[0mswitch_backend\u001b[0m\u001b[0;34m(\u001b[0m\u001b[0mbackend\u001b[0m\u001b[0;34m)\u001b[0m\u001b[0;34m\u001b[0m\u001b[0;34m\u001b[0m\u001b[0m\n\u001b[0m\u001b[1;32m    315\u001b[0m \u001b[0;34m\u001b[0m\u001b[0m\n\u001b[1;32m    316\u001b[0m     \u001b[0;31m# This must be imported last in the matplotlib series, after\u001b[0m\u001b[0;34m\u001b[0m\u001b[0;34m\u001b[0m\u001b[0;34m\u001b[0m\u001b[0m\n",
            "\u001b[0;32m/usr/local/lib/python3.8/dist-packages/matplotlib/pyplot.py\u001b[0m in \u001b[0;36mswitch_backend\u001b[0;34m(newbackend)\u001b[0m\n\u001b[1;32m    219\u001b[0m         else \"matplotlib.backends.backend_{}\".format(newbackend.lower()))\n\u001b[1;32m    220\u001b[0m \u001b[0;34m\u001b[0m\u001b[0m\n\u001b[0;32m--> 221\u001b[0;31m     \u001b[0mbackend_mod\u001b[0m \u001b[0;34m=\u001b[0m \u001b[0mimportlib\u001b[0m\u001b[0;34m.\u001b[0m\u001b[0mimport_module\u001b[0m\u001b[0;34m(\u001b[0m\u001b[0mbackend_name\u001b[0m\u001b[0;34m)\u001b[0m\u001b[0;34m\u001b[0m\u001b[0;34m\u001b[0m\u001b[0m\n\u001b[0m\u001b[1;32m    222\u001b[0m     Backend = type(\n\u001b[1;32m    223\u001b[0m         \"Backend\", (matplotlib.backends._Backend,), vars(backend_mod))\n",
            "\u001b[0;32m/usr/lib/python3.8/importlib/__init__.py\u001b[0m in \u001b[0;36mimport_module\u001b[0;34m(name, package)\u001b[0m\n\u001b[1;32m    125\u001b[0m                 \u001b[0;32mbreak\u001b[0m\u001b[0;34m\u001b[0m\u001b[0;34m\u001b[0m\u001b[0m\n\u001b[1;32m    126\u001b[0m             \u001b[0mlevel\u001b[0m \u001b[0;34m+=\u001b[0m \u001b[0;36m1\u001b[0m\u001b[0;34m\u001b[0m\u001b[0;34m\u001b[0m\u001b[0m\n\u001b[0;32m--> 127\u001b[0;31m     \u001b[0;32mreturn\u001b[0m \u001b[0m_bootstrap\u001b[0m\u001b[0;34m.\u001b[0m\u001b[0m_gcd_import\u001b[0m\u001b[0;34m(\u001b[0m\u001b[0mname\u001b[0m\u001b[0;34m[\u001b[0m\u001b[0mlevel\u001b[0m\u001b[0;34m:\u001b[0m\u001b[0;34m]\u001b[0m\u001b[0;34m,\u001b[0m \u001b[0mpackage\u001b[0m\u001b[0;34m,\u001b[0m \u001b[0mlevel\u001b[0m\u001b[0;34m)\u001b[0m\u001b[0;34m\u001b[0m\u001b[0;34m\u001b[0m\u001b[0m\n\u001b[0m\u001b[1;32m    128\u001b[0m \u001b[0;34m\u001b[0m\u001b[0m\n\u001b[1;32m    129\u001b[0m \u001b[0;34m\u001b[0m\u001b[0m\n",
            "\u001b[0;32m/usr/lib/python3.8/importlib/_bootstrap.py\u001b[0m in \u001b[0;36m_gcd_import\u001b[0;34m(name, package, level)\u001b[0m\n",
            "\u001b[0;32m/usr/lib/python3.8/importlib/_bootstrap.py\u001b[0m in \u001b[0;36m_find_and_load\u001b[0;34m(name, import_)\u001b[0m\n",
            "\u001b[0;32m/usr/lib/python3.8/importlib/_bootstrap.py\u001b[0m in \u001b[0;36m_find_and_load_unlocked\u001b[0;34m(name, import_)\u001b[0m\n",
            "\u001b[0;32m/usr/lib/python3.8/importlib/_bootstrap.py\u001b[0m in \u001b[0;36m_call_with_frames_removed\u001b[0;34m(f, *args, **kwds)\u001b[0m\n",
            "\u001b[0;32m/usr/lib/python3.8/importlib/_bootstrap.py\u001b[0m in \u001b[0;36m_gcd_import\u001b[0;34m(name, package, level)\u001b[0m\n",
            "\u001b[0;32m/usr/lib/python3.8/importlib/_bootstrap.py\u001b[0m in \u001b[0;36m_find_and_load\u001b[0;34m(name, import_)\u001b[0m\n",
            "\u001b[0;32m/usr/lib/python3.8/importlib/_bootstrap.py\u001b[0m in \u001b[0;36m_find_and_load_unlocked\u001b[0;34m(name, import_)\u001b[0m\n",
            "\u001b[0;31mModuleNotFoundError\u001b[0m: No module named 'ipympl'",
            "",
            "\u001b[0;31m---------------------------------------------------------------------------\u001b[0;32m\nNOTE: If your import is failing due to a missing package, you can\nmanually install dependencies using either !pip or !apt.\n\nTo view examples of installing some common dependencies, click the\n\"Open Examples\" button below.\n\u001b[0;31m---------------------------------------------------------------------------\u001b[0m\n"
          ],
          "errorDetails": {
            "actions": [
              {
                "action": "open_url",
                "actionText": "Open Examples",
                "url": "/notebooks/snippets/importing_libraries.ipynb"
              }
            ]
          }
        }
      ],
      "source": [
        "# Asegurar las versiones necesarias de Jupyter Lab\n",
        "#!conda install \"jupyterlab>=3\" \"notebook>=5.3\"\n",
        "#!conda install -c anaconda ipywidgets==7.0\n",
        "#!conda install ipykernel\n",
        "#!conda install ipympl\n",
        "#!jupyter labextension install @jupyter-widgets/jupyterlab-manager\n",
        "#!jupyter labextension install jupyter-matplotlib\n",
        "#!jupyter nbextension enable --py widgetsnbextension\n",
        "from ipywidgets import interact\n",
        "\n",
        "# Librería Numérica\n",
        "import numpy as np\n",
        "# Tipado de datos\n",
        "from numpy import dtype, floating\n",
        "from typing import Tuple, Union, List, Any\n",
        "\n",
        "# Datasets y Dataframes\n",
        "import pandas as pd\n",
        "\n",
        "# Preprocesamiento de datos\n",
        "from sklearn.preprocessing import MinMaxScaler\n",
        "\n",
        "# Librería para Visualizar Datos\n",
        "from matplotlib import pyplot as plt\n",
        "from matplotlib import patches as patches\n",
        "from matplotlib import cm\n",
        "%matplotlib notebook\n",
        "\n",
        "# Librería para el uso de gráficos interactivos\n",
        "#!conda install -c conda-forge -c plotly jupyter-dash\n",
        "import plotly.express as px\n",
        "import plotly.graph_objs as go\n",
        "import plotly.io as pio\n",
        "\n",
        "# Librería para aumentar la velocidad de ejecución\n",
        "#!conda install numba\n",
        "import numba\n",
        "from numba import jit\n",
        "\n",
        "# Eliminar Alertas y Errores Innecesarios\n",
        "import logging\n",
        "logger = logging.getLogger(\"numba\")\n",
        "logger.setLevel(logging.ERROR)\n",
        "import warnings\n",
        "warnings.filterwarnings(\"ignore\")"
      ]
    },
    {
      "cell_type": "markdown",
      "metadata": {
        "id": "6thGMzeFIBf5"
      },
      "source": [
        "#### Dataset que se va a utilizar para el entrenamiento"
      ]
    },
    {
      "cell_type": "code",
      "source": [
        "from google.colab import files\n",
        "uploaded = files.upload()"
      ],
      "metadata": {
        "id": "3SYtsEqyIYa2",
        "colab": {
          "base_uri": "https://localhost:8080/",
          "height": 73
        },
        "outputId": "dfa8184b-28c5-4395-aba1-518f409a50b6"
      },
      "execution_count": null,
      "outputs": [
        {
          "output_type": "display_data",
          "data": {
            "text/plain": [
              "<IPython.core.display.HTML object>"
            ],
            "text/html": [
              "\n",
              "     <input type=\"file\" id=\"files-4867ba78-6d63-4149-b4cd-ee1dcf13d9b6\" name=\"files[]\" multiple disabled\n",
              "        style=\"border:none\" />\n",
              "     <output id=\"result-4867ba78-6d63-4149-b4cd-ee1dcf13d9b6\">\n",
              "      Upload widget is only available when the cell has been executed in the\n",
              "      current browser session. Please rerun this cell to enable.\n",
              "      </output>\n",
              "      <script>// Copyright 2017 Google LLC\n",
              "//\n",
              "// Licensed under the Apache License, Version 2.0 (the \"License\");\n",
              "// you may not use this file except in compliance with the License.\n",
              "// You may obtain a copy of the License at\n",
              "//\n",
              "//      http://www.apache.org/licenses/LICENSE-2.0\n",
              "//\n",
              "// Unless required by applicable law or agreed to in writing, software\n",
              "// distributed under the License is distributed on an \"AS IS\" BASIS,\n",
              "// WITHOUT WARRANTIES OR CONDITIONS OF ANY KIND, either express or implied.\n",
              "// See the License for the specific language governing permissions and\n",
              "// limitations under the License.\n",
              "\n",
              "/**\n",
              " * @fileoverview Helpers for google.colab Python module.\n",
              " */\n",
              "(function(scope) {\n",
              "function span(text, styleAttributes = {}) {\n",
              "  const element = document.createElement('span');\n",
              "  element.textContent = text;\n",
              "  for (const key of Object.keys(styleAttributes)) {\n",
              "    element.style[key] = styleAttributes[key];\n",
              "  }\n",
              "  return element;\n",
              "}\n",
              "\n",
              "// Max number of bytes which will be uploaded at a time.\n",
              "const MAX_PAYLOAD_SIZE = 100 * 1024;\n",
              "\n",
              "function _uploadFiles(inputId, outputId) {\n",
              "  const steps = uploadFilesStep(inputId, outputId);\n",
              "  const outputElement = document.getElementById(outputId);\n",
              "  // Cache steps on the outputElement to make it available for the next call\n",
              "  // to uploadFilesContinue from Python.\n",
              "  outputElement.steps = steps;\n",
              "\n",
              "  return _uploadFilesContinue(outputId);\n",
              "}\n",
              "\n",
              "// This is roughly an async generator (not supported in the browser yet),\n",
              "// where there are multiple asynchronous steps and the Python side is going\n",
              "// to poll for completion of each step.\n",
              "// This uses a Promise to block the python side on completion of each step,\n",
              "// then passes the result of the previous step as the input to the next step.\n",
              "function _uploadFilesContinue(outputId) {\n",
              "  const outputElement = document.getElementById(outputId);\n",
              "  const steps = outputElement.steps;\n",
              "\n",
              "  const next = steps.next(outputElement.lastPromiseValue);\n",
              "  return Promise.resolve(next.value.promise).then((value) => {\n",
              "    // Cache the last promise value to make it available to the next\n",
              "    // step of the generator.\n",
              "    outputElement.lastPromiseValue = value;\n",
              "    return next.value.response;\n",
              "  });\n",
              "}\n",
              "\n",
              "/**\n",
              " * Generator function which is called between each async step of the upload\n",
              " * process.\n",
              " * @param {string} inputId Element ID of the input file picker element.\n",
              " * @param {string} outputId Element ID of the output display.\n",
              " * @return {!Iterable<!Object>} Iterable of next steps.\n",
              " */\n",
              "function* uploadFilesStep(inputId, outputId) {\n",
              "  const inputElement = document.getElementById(inputId);\n",
              "  inputElement.disabled = false;\n",
              "\n",
              "  const outputElement = document.getElementById(outputId);\n",
              "  outputElement.innerHTML = '';\n",
              "\n",
              "  const pickedPromise = new Promise((resolve) => {\n",
              "    inputElement.addEventListener('change', (e) => {\n",
              "      resolve(e.target.files);\n",
              "    });\n",
              "  });\n",
              "\n",
              "  const cancel = document.createElement('button');\n",
              "  inputElement.parentElement.appendChild(cancel);\n",
              "  cancel.textContent = 'Cancel upload';\n",
              "  const cancelPromise = new Promise((resolve) => {\n",
              "    cancel.onclick = () => {\n",
              "      resolve(null);\n",
              "    };\n",
              "  });\n",
              "\n",
              "  // Wait for the user to pick the files.\n",
              "  const files = yield {\n",
              "    promise: Promise.race([pickedPromise, cancelPromise]),\n",
              "    response: {\n",
              "      action: 'starting',\n",
              "    }\n",
              "  };\n",
              "\n",
              "  cancel.remove();\n",
              "\n",
              "  // Disable the input element since further picks are not allowed.\n",
              "  inputElement.disabled = true;\n",
              "\n",
              "  if (!files) {\n",
              "    return {\n",
              "      response: {\n",
              "        action: 'complete',\n",
              "      }\n",
              "    };\n",
              "  }\n",
              "\n",
              "  for (const file of files) {\n",
              "    const li = document.createElement('li');\n",
              "    li.append(span(file.name, {fontWeight: 'bold'}));\n",
              "    li.append(span(\n",
              "        `(${file.type || 'n/a'}) - ${file.size} bytes, ` +\n",
              "        `last modified: ${\n",
              "            file.lastModifiedDate ? file.lastModifiedDate.toLocaleDateString() :\n",
              "                                    'n/a'} - `));\n",
              "    const percent = span('0% done');\n",
              "    li.appendChild(percent);\n",
              "\n",
              "    outputElement.appendChild(li);\n",
              "\n",
              "    const fileDataPromise = new Promise((resolve) => {\n",
              "      const reader = new FileReader();\n",
              "      reader.onload = (e) => {\n",
              "        resolve(e.target.result);\n",
              "      };\n",
              "      reader.readAsArrayBuffer(file);\n",
              "    });\n",
              "    // Wait for the data to be ready.\n",
              "    let fileData = yield {\n",
              "      promise: fileDataPromise,\n",
              "      response: {\n",
              "        action: 'continue',\n",
              "      }\n",
              "    };\n",
              "\n",
              "    // Use a chunked sending to avoid message size limits. See b/62115660.\n",
              "    let position = 0;\n",
              "    do {\n",
              "      const length = Math.min(fileData.byteLength - position, MAX_PAYLOAD_SIZE);\n",
              "      const chunk = new Uint8Array(fileData, position, length);\n",
              "      position += length;\n",
              "\n",
              "      const base64 = btoa(String.fromCharCode.apply(null, chunk));\n",
              "      yield {\n",
              "        response: {\n",
              "          action: 'append',\n",
              "          file: file.name,\n",
              "          data: base64,\n",
              "        },\n",
              "      };\n",
              "\n",
              "      let percentDone = fileData.byteLength === 0 ?\n",
              "          100 :\n",
              "          Math.round((position / fileData.byteLength) * 100);\n",
              "      percent.textContent = `${percentDone}% done`;\n",
              "\n",
              "    } while (position < fileData.byteLength);\n",
              "  }\n",
              "\n",
              "  // All done.\n",
              "  yield {\n",
              "    response: {\n",
              "      action: 'complete',\n",
              "    }\n",
              "  };\n",
              "}\n",
              "\n",
              "scope.google = scope.google || {};\n",
              "scope.google.colab = scope.google.colab || {};\n",
              "scope.google.colab._files = {\n",
              "  _uploadFiles,\n",
              "  _uploadFilesContinue,\n",
              "};\n",
              "})(self);\n",
              "</script> "
            ]
          },
          "metadata": {}
        },
        {
          "output_type": "stream",
          "name": "stdout",
          "text": [
            "Saving Countries2010.csv to Countries2010 (2).csv\n"
          ]
        }
      ]
    },
    {
      "cell_type": "code",
      "execution_count": null,
      "metadata": {
        "id": "sG5f20t0IBf5"
      },
      "outputs": [],
      "source": [
        "df = pd.read_csv(\"Countries2010.csv\")\n",
        "pd.set_option('display.max_rows', df.shape[0]+1)\n",
        "scaler = MinMaxScaler()\n",
        "\n",
        "datos = scaler.fit_transform(df.drop(['CountryName'], axis=1))\n",
        "n_paises = datos.shape[0]\n",
        "n_caracteristicas = datos.shape[1]\n",
        "df.head(n_paises)"
      ]
    },
    {
      "cell_type": "markdown",
      "metadata": {
        "id": "1nEm_z-3IBf5"
      },
      "source": [
        "Como podemos ver en lo que mostramos por pantalla, creamos una matriz de *3 x 100* con diferentes valores al azar dentro del rango del código RGB.\n",
        "\n",
        "Además podemos ver que cada columna representa un color diferente; mientras que cada fila representa, correspondientemente, el elemento R (rojo), G (verde) y B (azul) de cada color."
      ]
    },
    {
      "cell_type": "markdown",
      "metadata": {
        "id": "Po4VcW4aIBf6"
      },
      "source": [
        "## SOM Setup\n",
        "#### Variables definidas por el alumno"
      ]
    },
    {
      "cell_type": "code",
      "execution_count": null,
      "metadata": {
        "id": "0APqhzN0IBf6"
      },
      "outputs": [],
      "source": [
        "# Inicializa tamaño del mapa de Kohonen, número de iteraciones y learning rate\n",
        "lado_mapa = 10\n",
        "# Número total de presentaciones, donde una presentación se basa en la aplicación de\n",
        "# un vector patrón a la entrada de la red\n",
        "periodo = n_paises*30 # Asegurar que todos los paises se toman el mismo numero de veces (para tener un entrenamiento más homogéneo)\n",
        "# Coeficiente de aprendizaje inicial que nos servirá para calcular el BMU (Best\n",
        "# Matching Unit).Cambiará ligeramente cada iteración y eventualmente será 0\n",
        "# (eta >>> 0).\n",
        "learning_rate = 0.28"
      ]
    },
    {
      "cell_type": "markdown",
      "metadata": {
        "id": "F9EI26BWIBf6"
      },
      "source": [
        "#### A partir de este punto solo hay cálculos. No se introducen más valores \"a mano\""
      ]
    },
    {
      "cell_type": "code",
      "execution_count": null,
      "metadata": {
        "id": "0PmAP9LyIBf6"
      },
      "outputs": [],
      "source": [
        "# Establece el numero de entradas del mapa y el número de datos que se van a usar para entrenar.\n",
        "num_datos_entreno = int(np.floor(n_paises*0.8))\n",
        "datos_entrenamiento = datos[:num_datos_entreno]\n",
        "datos_clasificar = datos[num_datos_entreno:]\n",
        "# Calcula el vecindario inicial. Debe ser la mitad del lado del mapa de Kohonen\n",
        "vecindario = int(lado_mapa/2)\n",
        "# Crea una matriz de pesos con valores random entre 0 y 1. Usa la función random.random de la librería NumPy\n",
        "matriz_pesos = np.random.random((lado_mapa, lado_mapa, n_caracteristicas))"
      ]
    },
    {
      "cell_type": "markdown",
      "metadata": {
        "id": "8CnPWzctIBf6"
      },
      "source": [
        "#### Funciones para entrenar/clasificar"
      ]
    },
    {
      "cell_type": "code",
      "execution_count": null,
      "metadata": {
        "id": "3J5qWCctIBf6"
      },
      "outputs": [],
      "source": [
        "# Función para encontrar la distancia euclidea\n",
        "\"\"\"\n",
        "   Encuentra la distancia euclidea entre 2 vectores\n",
        "   Entradas: (patron_de_entrada, vector_de_pesos)\n",
        "   Salidas:  (d_euclidea) distancia euclidea entre ambos vectores\n",
        "\"\"\"\n",
        "#@jit(nopython=True)\n",
        "def conseguir_distancia_euclidea(v_pesos, p_entrada):\n",
        "   # Calculamos la distancia con cada uno de los elementos de la matriz de pesos\n",
        "   # sabiendo que los vectores estan normalizados. Devolvemos el valor de la raiz cuadrada del sumatorio\n",
        "   return np.sqrt(np.sum((p_entrada-v_pesos)**2))\n",
        "\n",
        "\n",
        "# Función para encontrar la BMU\n",
        "\"\"\"\n",
        "   Encuentra la BMU para un patrón de entrada.\n",
        "   Entradas: (patrón_de_entrada, matriz_de_pesos, número_de_entradas)\n",
        "   Salidas:  (bmu, bmu_idx) tupla donde\n",
        "               bmu: vector de pesos de la neurona ganadora\n",
        "               bum_idx: coordenadas de la neurona ganadora\n",
        "\"\"\"\n",
        "def calcular_bmu(patron_entrada, m_pesos, m):\n",
        "   # Viajamos a través de la matriz de pesos\n",
        "   bmu_idx = [0,0]\n",
        "   bmu_dist = conseguir_distancia_euclidea(m_pesos[0,0], patron_entrada)\n",
        "   for i in range(1, m):\n",
        "      for j in range(1, m):\n",
        "         temp = conseguir_distancia_euclidea(m_pesos[i,j], patron_entrada)\n",
        "         # Comparamos para obtener la menor de las distancias de los vectores peso\n",
        "         if temp < bmu_dist:\n",
        "            # Cuando encontramos una distancia menor, la almacenamos\n",
        "            bmu_dist = temp\n",
        "            bmu_idx = [i,j]\n",
        "   bmu = m_pesos[bmu_idx[0],bmu_idx[1]]\n",
        "   # Devolvemos el valor del vector acorde de la matriz de pesos y su posición\n",
        "   return (bmu, bmu_idx)"
      ]
    },
    {
      "cell_type": "code",
      "execution_count": null,
      "metadata": {
        "id": "7qed1ndtIBf7"
      },
      "outputs": [],
      "source": [
        "# Función para calcular el descenso del coeficiente de aprendizaje (eta)\n",
        "\"\"\"\n",
        "   Calcula el Learning Rate (eta) que corresponde a la i-ésima presentación.\n",
        "   Entradas: (learning_rate_inicial, iteracion, período)\n",
        "   Salidas:  learning_rate para la iteración i\n",
        "\n",
        "\"\"\"\n",
        "@jit(nopython=True)\n",
        "def variacion_learning_rate(lr_inicial:float, i:int, n_iteraciones:int) -> float:\n",
        "   # Calculamos la variación del coeficiente de aprendizaje según la iteración\n",
        "   # en la que estemos\n",
        "   learning_rate = lr_inicial * (1 - (i/n_iteraciones))\n",
        "   # Devuelvo el valor del learning rate en esta iteración\n",
        "   return learning_rate"
      ]
    },
    {
      "cell_type": "code",
      "execution_count": null,
      "metadata": {
        "id": "FoP_PgqJIBf7"
      },
      "outputs": [],
      "source": [
        "# Función para calcular el descenso del vecindario (v)\n",
        "\"\"\"\n",
        "   Calcula el vecindario (v) que corresponde a la i-ésima presentación.\n",
        "   Entradas: (vecindario_inicial, iteracion, período)\n",
        "   Salidas:  vecindario para la iteración i\n",
        "\n",
        "\"\"\"\n",
        "@jit(nopython=True)\n",
        "def variacion_vecindario(vecindario_inicial:float, i:int, n_iteraciones:int) -> float:\n",
        "   # Calculamos la variación del vecindario según la iteración en la que estemos\n",
        "   vecindario = 1 + vecindario_inicial * (1 - (i/n_iteraciones))\n",
        "   # Devuelvo el vecindario de la iteración\n",
        "   return vecindario"
      ]
    },
    {
      "cell_type": "code",
      "execution_count": null,
      "metadata": {
        "id": "yqW0G2GOIBf7"
      },
      "outputs": [],
      "source": [
        "# Función para calcular el descenso del coeficiente de aprendizaje (eta) en función de la distancia a la BMU\n",
        "\"\"\"\n",
        "   Calcula la amortiguación de eta en función de la distancia en el mapa entre una neurona y la BMU.\n",
        "   Entradas: (distancia_BMU, vecindario_actual)\n",
        "   Salidas:  amortiguación para la iteración\n",
        "\n",
        "\"\"\"\n",
        "@jit(nopython=True)\n",
        "def decay(distancia_BMU:float, vecindario_actual:int) -> float:\n",
        "   return np.exp(-distancia_BMU**2 / (2*vecindario_actual**2))"
      ]
    },
    {
      "cell_type": "markdown",
      "metadata": {
        "id": "O8O-MNXHIBf7"
      },
      "source": [
        "#### Funciones para dibujar la salida de la red"
      ]
    },
    {
      "cell_type": "code",
      "execution_count": null,
      "metadata": {
        "id": "wCPvvXlJIBf7"
      },
      "outputs": [],
      "source": [
        "# Función para pintar una matriz de valores como colores RGB\n",
        "def pintar_mapa(matriz_valores:List[int], iter:int) -> None:\n",
        "    fig = plt.figure()\n",
        "\n",
        "    # Establece ejes\n",
        "    ax = fig.add_subplot(111, aspect='equal')\n",
        "    ax.set_xlim((0, matriz_pesos.shape[0]+1))\n",
        "    ax.set_ylim((0, matriz_pesos.shape[1]+1))\n",
        "    ax.set_title('SOM después de %d iteraciones' % iter)\n",
        "\n",
        "    # Dibuja los rectángulos de color RGB\n",
        "    for x in range(1, matriz_valores.shape[0] + 1):\n",
        "        for y in range(1, matriz_valores.shape[1] + 1):\n",
        "            ax.add_patch(patches.Rectangle((x-0.5, y-0.5), 1, 1, facecolor=matriz_valores[x-1,y-1,:], edgecolor='none'))\n",
        "    plt.show()"
      ]
    },
    {
      "cell_type": "markdown",
      "metadata": {
        "id": "Yl6Jlcy8IBf7"
      },
      "source": [
        "## SOM Entrenamiento"
      ]
    },
    {
      "cell_type": "code",
      "execution_count": null,
      "metadata": {
        "scrolled": false,
        "id": "LLBqig5rIBf8"
      },
      "outputs": [],
      "source": [
        "\n",
        "# Entrena la red con el dataset de entrenamiento\n",
        "# Competición - Comparar las funciones discriminantes\n",
        "# Cooperación - Activar neurona seleccionada y vecinas simultáneamente\n",
        "# Adaptación - Aumentar la función discriminante según la entrada actual\n",
        "# y los parámetros de las neuronas activas\n",
        "# Bucle principal\n",
        "@jit\n",
        "def actualizar_pesos(m_p, lado, p_e, iter, v_actual, bmu_i):\n",
        "        for x in range(0, lado):\n",
        "                for y in range(0, lado):\n",
        "                        # Calculamos la distancia euclidea 2D\n",
        "                        euc_2D = conseguir_distancia_euclidea(np.array(bmu_i), np.array([x,y]))\n",
        "                        if euc_2D <= v_actual:\n",
        "                                # Nuevos pesos\n",
        "                                m_p[x,y] = m_p[x,y] + variacion_learning_rate(learning_rate, iter, periodo-1) * decay(euc_2D , v_actual) * (p_e - m_p[x,y])\n",
        "        return m_p\n",
        "\"\"\"\n",
        "        def err_cuantificacion(num_e:int, patrones_e:np.ndarray[Any, dtype[np.float64]], matriz_p:np.ndarray[Any, dtype[np.float64]], ld_mapa:int) -> float:\n",
        "                sum = 0\n",
        "                for i in range(0,num_e):\n",
        "                        sum += conseguir_distancia_euclidea(np.array(calcular_bmu(patrones_e[i], matriz_p, ld_mapa)[0]), np.array(patrones_e[i]))\n",
        "                return sum/num_e\n",
        "\"\"\"\n",
        "def err_topologico(num_e, patrones_e, matriz_p, ld_mapa, n_caract):\n",
        "        sum = 0\n",
        "        for i in range(0,num_e):\n",
        "                bmu_1 = calcular_bmu(patrones_e[i], matriz_p, ld_mapa)[1]\n",
        "                m_temp = np.copy(matriz_p) #\n",
        "                m_temp[bmu_1[0], bmu_1[1]] = np.ones(n_caract)*2\n",
        "                bmu_2 = calcular_bmu(patrones_e[i], m_temp, ld_mapa)[1]\n",
        "                if np.any(abs(np.array(bmu_1)-np.array(bmu_2)) > 1):\n",
        "                        sum += 1\n",
        "        return sum/num_e\n",
        "\n",
        "# Cambiamos la forma de la matriz\n",
        "def entrenar_SOM(m_pesos, n_entradas, entradas):\n",
        "        for i in range(periodo+1):\n",
        "                # Entrada actual\n",
        "                entrada = entradas[i%n_entradas]; # Para tomar una entrada aleatoria, usar random.choice(datos)\n",
        "                # Best Matching Unit\n",
        "                __, bmu_idx = calcular_bmu(entrada, m_pesos, lado_mapa)\n",
        "                # Actualizar pesos\n",
        "                m_pesos = actualizar_pesos(m_pesos, lado_mapa, entrada, i, variacion_vecindario(vecindario, i, periodo-1), bmu_idx)\n",
        "        return m_pesos"
      ]
    },
    {
      "cell_type": "code",
      "execution_count": null,
      "metadata": {
        "id": "BWktaa0BIBf8",
        "colab": {
          "base_uri": "https://localhost:8080/"
        },
        "outputId": "a1f2c3c8-1405-426f-e076-8f037e11539b"
      },
      "outputs": [
        {
          "output_type": "stream",
          "name": "stdout",
          "text": [
            "[[[0.58550107 0.02098705 0.00274243 ... 0.04991017 0.02422427 0.23943231]\n",
            "  [0.60350385 0.01653062 0.00223146 ... 0.04392779 0.01978834 0.20977395]\n",
            "  [0.60270162 0.00619095 0.00126899 ... 0.0304166  0.01098389 0.12581033]\n",
            "  ...\n",
            "  [0.38635357 0.04651596 0.01034911 ... 0.24851595 0.07990076 0.14308738]\n",
            "  [0.34256604 0.07499346 0.038325   ... 0.35762118 0.10689121 0.16146766]\n",
            "  [0.32631452 0.09032023 0.04927303 ... 0.38814007 0.11963021 0.19189241]]\n",
            "\n",
            " [[0.59063121 0.01668115 0.00234635 ... 0.05294623 0.02021545 0.2081004 ]\n",
            "  [0.59214607 0.01052379 0.00153027 ... 0.04967238 0.01484202 0.16390178]\n",
            "  [0.56695013 0.00514949 0.00143552 ... 0.04383017 0.01142565 0.11425767]\n",
            "  ...\n",
            "  [0.3741923  0.0468876  0.01168771 ... 0.24628015 0.07984894 0.13409954]\n",
            "  [0.32618454 0.07154732 0.03341741 ... 0.34930819 0.10633796 0.15403793]\n",
            "  [0.291583   0.09454725 0.04412511 ... 0.38305027 0.1404542  0.17689389]]\n",
            "\n",
            " [[0.53582334 0.00630557 0.00159332 ... 0.05985847 0.01163411 0.13394847]\n",
            "  [0.53544622 0.00537488 0.00121495 ... 0.05618263 0.01139667 0.1239947 ]\n",
            "  [0.52752683 0.00607608 0.0012697  ... 0.05600453 0.01318267 0.11461957]\n",
            "  ...\n",
            "  [0.33636787 0.04092764 0.00718591 ... 0.23931181 0.07300457 0.13047746]\n",
            "  [0.26230992 0.08827544 0.02668321 ... 0.36879516 0.14803089 0.14194879]\n",
            "  [0.2161294  0.11205856 0.03376999 ... 0.40794144 0.188238   0.16990685]]\n",
            "\n",
            " ...\n",
            "\n",
            " [[0.14541266 0.03060783 0.00318672 ... 0.15792066 0.04334875 0.10273381]\n",
            "  [0.18396776 0.03239774 0.00110556 ... 0.18399823 0.04729529 0.0968167 ]\n",
            "  [0.19357668 0.03540248 0.0171581  ... 0.21275272 0.05878621 0.09063069]\n",
            "  ...\n",
            "  [0.09679745 0.194372   0.03087694 ... 0.58482475 0.21040596 0.07829169]\n",
            "  [0.06205168 0.33036032 0.04267976 ... 0.76685969 0.29151455 0.06211353]\n",
            "  [0.04610944 0.41954676 0.05601231 ... 0.85816506 0.35619474 0.0638409 ]]\n",
            "\n",
            " [[0.15295048 0.0580096  0.00286305 ... 0.28833149 0.08806671 0.11532903]\n",
            "  [0.16505234 0.05779598 0.00193831 ... 0.28539354 0.08558755 0.10228707]\n",
            "  [0.17535706 0.06337759 0.02437786 ... 0.3178958  0.09523577 0.0874362 ]\n",
            "  ...\n",
            "  [0.06142652 0.26297778 0.05027621 ... 0.68756903 0.25350105 0.05867765]\n",
            "  [0.04350424 0.41434159 0.09637593 ... 0.82513991 0.33141278 0.05544667]\n",
            "  [0.0427557  0.5021095  0.12681003 ... 0.88749589 0.37221122 0.05981538]]\n",
            "\n",
            " [[0.16311542 0.07226198 0.00186544 ... 0.36377734 0.10952558 0.11688925]\n",
            "  [0.1643557  0.0729415  0.00179879 ... 0.35903196 0.1083727  0.10935902]\n",
            "  [0.17598144 0.08066195 0.01406833 ... 0.39659083 0.11620991 0.08414658]\n",
            "  ...\n",
            "  [0.05485694 0.27287497 0.05672451 ... 0.71311214 0.25868416 0.04976365]\n",
            "  [0.04164281 0.48576653 0.14745238 ... 0.83221787 0.36720932 0.05283553]\n",
            "  [0.03983928 0.55902678 0.17766111 ... 0.89605373 0.40277634 0.05728856]]]\n"
          ]
        }
      ],
      "source": [
        "matriz_pesos = entrenar_SOM(matriz_pesos, n_paises, datos)\n",
        "print(matriz_pesos)"
      ]
    },
    {
      "cell_type": "markdown",
      "metadata": {
        "id": "SrfWrJjKIBf8"
      },
      "source": [
        "## SOM Clasificación"
      ]
    },
    {
      "cell_type": "code",
      "execution_count": null,
      "metadata": {
        "id": "b9wWIoMwIBf8"
      },
      "outputs": [],
      "source": [
        "# Matriz de iguales dimensiones que la matriz de pesos para guardar en cada neurona el último patrón clasificado\n",
        "mapa_clasificacion = [[[]for _ in range(lado_mapa)] for _ in range(lado_mapa)]\n",
        "# Matriz bidimensional para guardar el número de patrones reconocido por cada neurona\n",
        "mapa_activaciones = np.zeros((lado_mapa, lado_mapa))\n",
        "# Matriz bidimensional para guardar, para las neuronas con activación > 0, la distancia media de todos los patrones de la clase con su vector de pesos\n",
        "mapa_distancias = np.zeros((lado_mapa, lado_mapa))\n",
        "error_c = 0.0\n",
        "error_t = 0.0\n",
        "clases = 0\n",
        "\n",
        "def scatter(mat):\n",
        "    fig = go.Figure(data=[go.Scatter3d(\n",
        "        x=mat[0],\n",
        "        y=mat[1],\n",
        "        z=mat[2],\n",
        "        mode='markers',\n",
        "        marker=dict(size=4, color='blue', colorscale='Viridis', opacity=0.8),\n",
        "        text=[f'{df.at[i,\"CountryName\"]} clasificado en la neurona: ({mat[0,i]:.2f}, {mat[1,i]:.2f})' for i in range(n_paises)],\n",
        "        hoverinfo='text')])\n",
        "    fig.update_layout(scene=dict(\n",
        "        xaxis_title='Lado Mapa',\n",
        "        yaxis_title='Lado Mapa',\n",
        "        zaxis_title='Identificador del País'\n",
        "    ))\n",
        "    pio.show(fig)\n",
        "\n",
        "\n",
        "@jit\n",
        "def histograma_3D(m_activaciones):\n",
        "    fig = plt.figure()\n",
        "    ax = fig.add_subplot(111, projection='3d')\n",
        "    x_data, y_data = np.meshgrid( np.arange(m_activaciones.shape[1]), np.arange(m_activaciones.shape[0]))\n",
        "    x_data = x_data.flatten()\n",
        "    y_data = y_data.flatten()\n",
        "    z_data = m_activaciones.flatten()\n",
        "    ax.bar3d( x_data, y_data, np.zeros(len(z_data)), 1, 1, z_data)\n",
        "    plt.show()\n",
        "\n",
        "@jit\n",
        "def patron_2_pais(dato):\n",
        "  dat = np.array(dato)\n",
        "  for i in range(0, n_paises):\n",
        "    if (dat == datos[i]).all():\n",
        "      return i\n",
        "@jit\n",
        "def entrada_2_pais(pat):\n",
        "  patterns = np.zeros(n_paises)\n",
        "  for i in range(0, len(pat)):\n",
        "    patterns[patron_2_pais(pat[i])] = 1\n",
        "  return patterns\n",
        "\n",
        "@jit\n",
        "def entradas_2_pais(m_clas):\n",
        "  m_entradas = np.zeros((lado_mapa, lado_mapa, n_paises))\n",
        "  for i in range(0, len(m_clas)):\n",
        "    for j in range(0, len(m_clas)):\n",
        "      if len(m_clas[i][j]) != 0:\n",
        "        m_entradas[i][j] = entrada_2_pais(m_clas[i][j])\n",
        "      else:\n",
        "        m_entradas[i][j] = np.zeros(n_paises)\n",
        "  return np.array(np.where(m_entradas == 1))\n",
        "\n",
        "\n",
        "def clasificar_SOM(patrones, mat_pesos, m_clasificacion, m_activaciones, m_distancias, e_cuan, e_topo, n_clases):\n",
        "    for i in range(0,n_paises):\n",
        "        bmu_v, bmu_coor = calcular_bmu(patrones[i], mat_pesos, lado_mapa)\n",
        "        #print(bmu_coor)\n",
        "        m_clasificacion[bmu_coor[0]][bmu_coor[1]].append(patrones[i])\n",
        "        m_activaciones[bmu_coor[0], bmu_coor[1]] += 1\n",
        "        m_distancias[bmu_coor[0], bmu_coor[1]] += conseguir_distancia_euclidea(np.array(bmu_v), np.array(patrones[i]))\n",
        "    e_cuan = np.sum(m_distancias)/n_paises\n",
        "    e_topo = err_topologico(n_paises, datos, matriz_pesos, lado_mapa, n_caracteristicas)\n",
        "    #m_clasificacion = np.asarray(m_clasificacion)\n",
        "    m_distancias = m_distancias / m_activaciones\n",
        "    m_distancias[~np.isfinite(m_distancias)] = 0\n",
        "    n_clases = np.count_nonzero(m_activaciones)"
      ]
    },
    {
      "cell_type": "code",
      "execution_count": null,
      "metadata": {
        "id": "q6nKCKW4IBf9",
        "outputId": "d7ebec3f-faca-498f-9028-4a39690c4826",
        "colab": {
          "base_uri": "https://localhost:8080/",
          "height": 559
        }
      },
      "outputs": [
        {
          "output_type": "stream",
          "name": "stdout",
          "text": [
            "(3, 171)\n"
          ]
        },
        {
          "output_type": "display_data",
          "data": {
            "text/html": [
              "<html>\n",
              "<head><meta charset=\"utf-8\" /></head>\n",
              "<body>\n",
              "    <div>            <script src=\"https://cdnjs.cloudflare.com/ajax/libs/mathjax/2.7.5/MathJax.js?config=TeX-AMS-MML_SVG\"></script><script type=\"text/javascript\">if (window.MathJax) {MathJax.Hub.Config({SVG: {font: \"STIX-Web\"}});}</script>                <script type=\"text/javascript\">window.PlotlyConfig = {MathJaxConfig: 'local'};</script>\n",
              "        <script src=\"https://cdn.plot.ly/plotly-2.8.3.min.js\"></script>                <div id=\"d83cc942-d1ff-4808-84af-e22f741a24a9\" class=\"plotly-graph-div\" style=\"height:525px; width:100%;\"></div>            <script type=\"text/javascript\">                                    window.PLOTLYENV=window.PLOTLYENV || {};                                    if (document.getElementById(\"d83cc942-d1ff-4808-84af-e22f741a24a9\")) {                    Plotly.newPlot(                        \"d83cc942-d1ff-4808-84af-e22f741a24a9\",                        [{\"hoverinfo\":\"text\",\"marker\":{\"color\":\"blue\",\"colorscale\":[[0.0,\"#440154\"],[0.1111111111111111,\"#482878\"],[0.2222222222222222,\"#3e4989\"],[0.3333333333333333,\"#31688e\"],[0.4444444444444444,\"#26828e\"],[0.5555555555555556,\"#1f9e89\"],[0.6666666666666666,\"#35b779\"],[0.7777777777777778,\"#6ece58\"],[0.8888888888888888,\"#b5de2b\"],[1.0,\"#fde725\"]],\"opacity\":0.8,\"size\":4},\"mode\":\"markers\",\"text\":[\"Afghanistan clasificado en la neurona: (0.00, 0.00)\",\"Albania clasificado en la neurona: (0.00, 0.00)\",\"Algeria clasificado en la neurona: (0.00, 0.00)\",\"Antigua and Barbuda clasificado en la neurona: (0.00, 0.00)\",\"Armenia clasificado en la neurona: (0.00, 0.00)\",\"Australia clasificado en la neurona: (0.00, 0.00)\",\"Austria clasificado en la neurona: (0.00, 0.00)\",\"Azerbaijan clasificado en la neurona: (0.00, 0.00)\",\"Bahamas, The clasificado en la neurona: (0.00, 0.00)\",\"Bahrain clasificado en la neurona: (1.00, 1.00)\",\"Bangladesh clasificado en la neurona: (1.00, 1.00)\",\"Barbados clasificado en la neurona: (1.00, 1.00)\",\"Belarus clasificado en la neurona: (1.00, 2.00)\",\"Belgium clasificado en la neurona: (1.00, 2.00)\",\"Belize clasificado en la neurona: (1.00, 3.00)\",\"Benin clasificado en la neurona: (1.00, 3.00)\",\"Bhutan clasificado en la neurona: (1.00, 3.00)\",\"Bolivia clasificado en la neurona: (1.00, 3.00)\",\"Bosnia and Herzegovina clasificado en la neurona: (1.00, 3.00)\",\"Botswana clasificado en la neurona: (1.00, 3.00)\",\"Brazil clasificado en la neurona: (1.00, 4.00)\",\"Bulgaria clasificado en la neurona: (1.00, 4.00)\",\"Burkina Faso clasificado en la neurona: (1.00, 4.00)\",\"Burundi clasificado en la neurona: (1.00, 5.00)\",\"Cabo Verde clasificado en la neurona: (1.00, 5.00)\",\"Cambodia clasificado en la neurona: (1.00, 6.00)\",\"Cameroon clasificado en la neurona: (1.00, 6.00)\",\"Canada clasificado en la neurona: (1.00, 6.00)\",\"Central African Republic clasificado en la neurona: (1.00, 7.00)\",\"Chad clasificado en la neurona: (1.00, 7.00)\",\"Chile clasificado en la neurona: (1.00, 8.00)\",\"China clasificado en la neurona: (1.00, 9.00)\",\"Colombia clasificado en la neurona: (1.00, 9.00)\",\"Congo, Dem. Rep. clasificado en la neurona: (2.00, 1.00)\",\"Congo, Rep. clasificado en la neurona: (2.00, 1.00)\",\"Costa Rica clasificado en la neurona: (2.00, 1.00)\",\"Cote d'Ivoire clasificado en la neurona: (2.00, 1.00)\",\"Croatia clasificado en la neurona: (2.00, 1.00)\",\"Cuba clasificado en la neurona: (2.00, 2.00)\",\"Cyprus clasificado en la neurona: (2.00, 2.00)\",\"Czech Republic clasificado en la neurona: (2.00, 2.00)\",\"Denmark clasificado en la neurona: (2.00, 3.00)\",\"Dominican Republic clasificado en la neurona: (2.00, 5.00)\",\"Ecuador clasificado en la neurona: (2.00, 6.00)\",\"Egypt, Arab Rep. clasificado en la neurona: (2.00, 7.00)\",\"El Salvador clasificado en la neurona: (2.00, 8.00)\",\"Equatorial Guinea clasificado en la neurona: (2.00, 9.00)\",\"Eritrea clasificado en la neurona: (3.00, 1.00)\",\"Estonia clasificado en la neurona: (3.00, 1.00)\",\"Ethiopia clasificado en la neurona: (3.00, 1.00)\",\"Fiji clasificado en la neurona: (3.00, 1.00)\",\"Finland clasificado en la neurona: (3.00, 3.00)\",\"France clasificado en la neurona: (3.00, 3.00)\",\"Gabon clasificado en la neurona: (3.00, 4.00)\",\"Gambia, The clasificado en la neurona: (3.00, 5.00)\",\"Georgia clasificado en la neurona: (3.00, 6.00)\",\"Germany clasificado en la neurona: (3.00, 6.00)\",\"Ghana clasificado en la neurona: (3.00, 6.00)\",\"Greece clasificado en la neurona: (3.00, 6.00)\",\"Grenada clasificado en la neurona: (3.00, 9.00)\",\"Guatemala clasificado en la neurona: (3.00, 9.00)\",\"Guinea clasificado en la neurona: (3.00, 9.00)\",\"Guinea-Bissau clasificado en la neurona: (4.00, 1.00)\",\"Guyana clasificado en la neurona: (4.00, 1.00)\",\"Haiti clasificado en la neurona: (4.00, 2.00)\",\"Honduras clasificado en la neurona: (4.00, 2.00)\",\"Hungary clasificado en la neurona: (4.00, 4.00)\",\"Iceland clasificado en la neurona: (4.00, 4.00)\",\"India clasificado en la neurona: (4.00, 4.00)\",\"Indonesia clasificado en la neurona: (4.00, 4.00)\",\"Iran, Islamic Rep. clasificado en la neurona: (4.00, 6.00)\",\"Iraq clasificado en la neurona: (4.00, 7.00)\",\"Ireland clasificado en la neurona: (4.00, 7.00)\",\"Israel clasificado en la neurona: (4.00, 7.00)\",\"Italy clasificado en la neurona: (4.00, 8.00)\",\"Jamaica clasificado en la neurona: (4.00, 9.00)\",\"Japan clasificado en la neurona: (5.00, 1.00)\",\"Jordan clasificado en la neurona: (5.00, 1.00)\",\"Kazakhstan clasificado en la neurona: (5.00, 2.00)\",\"Kenya clasificado en la neurona: (5.00, 2.00)\",\"Kiribati clasificado en la neurona: (5.00, 2.00)\",\"Korea, Rep. clasificado en la neurona: (5.00, 3.00)\",\"Kuwait clasificado en la neurona: (5.00, 3.00)\",\"Kyrgyz Republic clasificado en la neurona: (5.00, 5.00)\",\"Lao PDR clasificado en la neurona: (5.00, 6.00)\",\"Latvia clasificado en la neurona: (5.00, 6.00)\",\"Lebanon clasificado en la neurona: (5.00, 6.00)\",\"Lesotho clasificado en la neurona: (5.00, 9.00)\",\"Liberia clasificado en la neurona: (5.00, 9.00)\",\"Lithuania clasificado en la neurona: (5.00, 9.00)\",\"Luxembourg clasificado en la neurona: (6.00, 1.00)\",\"Macedonia, FYR clasificado en la neurona: (6.00, 1.00)\",\"Madagascar clasificado en la neurona: (6.00, 2.00)\",\"Malawi clasificado en la neurona: (6.00, 2.00)\",\"Malaysia clasificado en la neurona: (6.00, 3.00)\",\"Maldives clasificado en la neurona: (6.00, 4.00)\",\"Mali clasificado en la neurona: (6.00, 4.00)\",\"Malta clasificado en la neurona: (6.00, 4.00)\",\"Mauritania clasificado en la neurona: (6.00, 4.00)\",\"Mauritius clasificado en la neurona: (6.00, 4.00)\",\"Mexico clasificado en la neurona: (6.00, 5.00)\",\"Micronesia, Fed. Sts. clasificado en la neurona: (6.00, 6.00)\",\"Moldova clasificado en la neurona: (6.00, 7.00)\",\"Mongolia clasificado en la neurona: (6.00, 7.00)\",\"Montenegro clasificado en la neurona: (6.00, 7.00)\",\"Morocco clasificado en la neurona: (6.00, 8.00)\",\"Mozambique clasificado en la neurona: (6.00, 9.00)\",\"Namibia clasificado en la neurona: (7.00, 1.00)\",\"Nepal clasificado en la neurona: (7.00, 1.00)\",\"Netherlands clasificado en la neurona: (7.00, 1.00)\",\"New Zealand clasificado en la neurona: (7.00, 2.00)\",\"Nicaragua clasificado en la neurona: (7.00, 4.00)\",\"Niger clasificado en la neurona: (7.00, 5.00)\",\"Nigeria clasificado en la neurona: (7.00, 5.00)\",\"Norway clasificado en la neurona: (7.00, 6.00)\",\"Oman clasificado en la neurona: (7.00, 6.00)\",\"Pakistan clasificado en la neurona: (7.00, 6.00)\",\"Panama clasificado en la neurona: (7.00, 7.00)\",\"Papua New Guinea clasificado en la neurona: (7.00, 7.00)\",\"Paraguay clasificado en la neurona: (7.00, 8.00)\",\"Peru clasificado en la neurona: (7.00, 8.00)\",\"Philippines clasificado en la neurona: (7.00, 9.00)\",\"Poland clasificado en la neurona: (7.00, 9.00)\",\"Portugal clasificado en la neurona: (7.00, 9.00)\",\"Qatar clasificado en la neurona: (8.00, 1.00)\",\"Romania clasificado en la neurona: (8.00, 2.00)\",\"Russian Federation clasificado en la neurona: (8.00, 3.00)\",\"Rwanda clasificado en la neurona: (8.00, 3.00)\",\"Samoa clasificado en la neurona: (8.00, 3.00)\",\"Sao Tome and Principe clasificado en la neurona: (8.00, 4.00)\",\"Saudi Arabia clasificado en la neurona: (8.00, 4.00)\",\"Senegal clasificado en la neurona: (8.00, 5.00)\",\"Serbia clasificado en la neurona: (8.00, 5.00)\",\"Seychelles clasificado en la neurona: (8.00, 5.00)\",\"Sierra Leone clasificado en la neurona: (8.00, 6.00)\",\"Singapore clasificado en la neurona: (8.00, 7.00)\",\"Slovak Republic clasificado en la neurona: (8.00, 7.00)\",\"Slovenia clasificado en la neurona: (8.00, 7.00)\",\"Solomon Islands clasificado en la neurona: (8.00, 8.00)\",\"South Africa clasificado en la neurona: (8.00, 8.00)\",\"Spain clasificado en la neurona: (8.00, 8.00)\",\"Sri Lanka clasificado en la neurona: (8.00, 8.00)\",\"St. Lucia clasificado en la neurona: (8.00, 9.00)\",\"St. Vincent and the Grenadines clasificado en la neurona: (8.00, 9.00)\",\"Sudan clasificado en la neurona: (8.00, 9.00)\",\"Suriname clasificado en la neurona: (8.00, 9.00)\",\"Swaziland clasificado en la neurona: (9.00, 1.00)\",\"Sweden clasificado en la neurona: (9.00, 1.00)\",\"Switzerland clasificado en la neurona: (9.00, 1.00)\",\"Tajikistan clasificado en la neurona: (9.00, 1.00)\",\"Tanzania clasificado en la neurona: (9.00, 1.00)\",\"Thailand clasificado en la neurona: (9.00, 3.00)\",\"Togo clasificado en la neurona: (9.00, 3.00)\",\"Tonga clasificado en la neurona: (9.00, 4.00)\",\"Trinidad and Tobago clasificado en la neurona: (9.00, 5.00)\",\"Tunisia clasificado en la neurona: (9.00, 5.00)\",\"Turkey clasificado en la neurona: (9.00, 5.00)\",\"Uganda clasificado en la neurona: (9.00, 6.00)\",\"Ukraine clasificado en la neurona: (9.00, 6.00)\",\"United Arab Emirates clasificado en la neurona: (9.00, 6.00)\",\"United Kingdom clasificado en la neurona: (9.00, 6.00)\",\"United States clasificado en la neurona: (9.00, 6.00)\",\"Uruguay clasificado en la neurona: (9.00, 6.00)\",\"Uzbekistan clasificado en la neurona: (9.00, 7.00)\",\"Vanuatu clasificado en la neurona: (9.00, 7.00)\",\"Venezuela, RB clasificado en la neurona: (9.00, 8.00)\",\"Vietnam clasificado en la neurona: (9.00, 9.00)\",\"West Bank and Gaza clasificado en la neurona: (9.00, 9.00)\",\"Yemen, Rep. clasificado en la neurona: (9.00, 9.00)\",\"Zambia clasificado en la neurona: (9.00, 9.00)\",\"Zimbabwe clasificado en la neurona: (9.00, 9.00)\"],\"x\":[0,0,0,0,0,0,0,0,0,1,1,1,1,1,1,1,1,1,1,1,1,1,1,1,1,1,1,1,1,1,1,1,1,2,2,2,2,2,2,2,2,2,2,2,2,2,2,3,3,3,3,3,3,3,3,3,3,3,3,3,3,3,4,4,4,4,4,4,4,4,4,4,4,4,4,4,5,5,5,5,5,5,5,5,5,5,5,5,5,5,6,6,6,6,6,6,6,6,6,6,6,6,6,6,6,6,6,7,7,7,7,7,7,7,7,7,7,7,7,7,7,7,7,7,8,8,8,8,8,8,8,8,8,8,8,8,8,8,8,8,8,8,8,8,8,8,9,9,9,9,9,9,9,9,9,9,9,9,9,9,9,9,9,9,9,9,9,9,9,9,9],\"y\":[0,0,0,0,0,0,0,0,0,1,1,1,2,2,3,3,3,3,3,3,4,4,4,5,5,6,6,6,7,7,8,9,9,1,1,1,1,1,2,2,2,3,5,6,7,8,9,1,1,1,1,3,3,4,5,6,6,6,6,9,9,9,1,1,2,2,4,4,4,4,6,7,7,7,8,9,1,1,2,2,2,3,3,5,6,6,6,9,9,9,1,1,2,2,3,4,4,4,4,4,5,6,7,7,7,8,9,1,1,1,2,4,5,5,6,6,6,7,7,8,8,9,9,9,1,2,3,3,3,4,4,5,5,5,6,7,7,7,8,8,8,8,9,9,9,9,1,1,1,1,1,3,3,4,5,5,5,6,6,6,6,6,6,7,7,8,9,9,9,9,9],\"z\":[28,29,33,46,64,96,98,113,134,0,106,112,22,61,15,26,36,62,88,116,54,57,131,34,129,17,53,71,42,167,100,20,165,92,144,150,152,157,84,93,169,170,60,111,24,77,117,49,79,118,168,87,146,107,65,43,45,103,119,94,115,130,23,47,25,80,19,69,121,139,2,32,120,145,8,9,108,127,10,68,149,83,163,50,35,70,156,82,124,159,101,138,16,63,44,7,75,78,105,143,155,38,30,86,162,73,135,128,153,164,14,102,4,55,12,126,158,39,97,81,110,5,13,67,141,59,31,99,151,1,18,104,125,132,21,40,58,140,51,52,72,160,27,41,109,147,3,95,142,154,166,11,133,91,37,122,136,48,66,85,89,123,137,6,74,56,76,90,114,148,161],\"type\":\"scatter3d\"}],                        {\"template\":{\"data\":{\"bar\":[{\"error_x\":{\"color\":\"#2a3f5f\"},\"error_y\":{\"color\":\"#2a3f5f\"},\"marker\":{\"line\":{\"color\":\"#E5ECF6\",\"width\":0.5},\"pattern\":{\"fillmode\":\"overlay\",\"size\":10,\"solidity\":0.2}},\"type\":\"bar\"}],\"barpolar\":[{\"marker\":{\"line\":{\"color\":\"#E5ECF6\",\"width\":0.5},\"pattern\":{\"fillmode\":\"overlay\",\"size\":10,\"solidity\":0.2}},\"type\":\"barpolar\"}],\"carpet\":[{\"aaxis\":{\"endlinecolor\":\"#2a3f5f\",\"gridcolor\":\"white\",\"linecolor\":\"white\",\"minorgridcolor\":\"white\",\"startlinecolor\":\"#2a3f5f\"},\"baxis\":{\"endlinecolor\":\"#2a3f5f\",\"gridcolor\":\"white\",\"linecolor\":\"white\",\"minorgridcolor\":\"white\",\"startlinecolor\":\"#2a3f5f\"},\"type\":\"carpet\"}],\"choropleth\":[{\"colorbar\":{\"outlinewidth\":0,\"ticks\":\"\"},\"type\":\"choropleth\"}],\"contour\":[{\"colorbar\":{\"outlinewidth\":0,\"ticks\":\"\"},\"colorscale\":[[0.0,\"#0d0887\"],[0.1111111111111111,\"#46039f\"],[0.2222222222222222,\"#7201a8\"],[0.3333333333333333,\"#9c179e\"],[0.4444444444444444,\"#bd3786\"],[0.5555555555555556,\"#d8576b\"],[0.6666666666666666,\"#ed7953\"],[0.7777777777777778,\"#fb9f3a\"],[0.8888888888888888,\"#fdca26\"],[1.0,\"#f0f921\"]],\"type\":\"contour\"}],\"contourcarpet\":[{\"colorbar\":{\"outlinewidth\":0,\"ticks\":\"\"},\"type\":\"contourcarpet\"}],\"heatmap\":[{\"colorbar\":{\"outlinewidth\":0,\"ticks\":\"\"},\"colorscale\":[[0.0,\"#0d0887\"],[0.1111111111111111,\"#46039f\"],[0.2222222222222222,\"#7201a8\"],[0.3333333333333333,\"#9c179e\"],[0.4444444444444444,\"#bd3786\"],[0.5555555555555556,\"#d8576b\"],[0.6666666666666666,\"#ed7953\"],[0.7777777777777778,\"#fb9f3a\"],[0.8888888888888888,\"#fdca26\"],[1.0,\"#f0f921\"]],\"type\":\"heatmap\"}],\"heatmapgl\":[{\"colorbar\":{\"outlinewidth\":0,\"ticks\":\"\"},\"colorscale\":[[0.0,\"#0d0887\"],[0.1111111111111111,\"#46039f\"],[0.2222222222222222,\"#7201a8\"],[0.3333333333333333,\"#9c179e\"],[0.4444444444444444,\"#bd3786\"],[0.5555555555555556,\"#d8576b\"],[0.6666666666666666,\"#ed7953\"],[0.7777777777777778,\"#fb9f3a\"],[0.8888888888888888,\"#fdca26\"],[1.0,\"#f0f921\"]],\"type\":\"heatmapgl\"}],\"histogram\":[{\"marker\":{\"pattern\":{\"fillmode\":\"overlay\",\"size\":10,\"solidity\":0.2}},\"type\":\"histogram\"}],\"histogram2d\":[{\"colorbar\":{\"outlinewidth\":0,\"ticks\":\"\"},\"colorscale\":[[0.0,\"#0d0887\"],[0.1111111111111111,\"#46039f\"],[0.2222222222222222,\"#7201a8\"],[0.3333333333333333,\"#9c179e\"],[0.4444444444444444,\"#bd3786\"],[0.5555555555555556,\"#d8576b\"],[0.6666666666666666,\"#ed7953\"],[0.7777777777777778,\"#fb9f3a\"],[0.8888888888888888,\"#fdca26\"],[1.0,\"#f0f921\"]],\"type\":\"histogram2d\"}],\"histogram2dcontour\":[{\"colorbar\":{\"outlinewidth\":0,\"ticks\":\"\"},\"colorscale\":[[0.0,\"#0d0887\"],[0.1111111111111111,\"#46039f\"],[0.2222222222222222,\"#7201a8\"],[0.3333333333333333,\"#9c179e\"],[0.4444444444444444,\"#bd3786\"],[0.5555555555555556,\"#d8576b\"],[0.6666666666666666,\"#ed7953\"],[0.7777777777777778,\"#fb9f3a\"],[0.8888888888888888,\"#fdca26\"],[1.0,\"#f0f921\"]],\"type\":\"histogram2dcontour\"}],\"mesh3d\":[{\"colorbar\":{\"outlinewidth\":0,\"ticks\":\"\"},\"type\":\"mesh3d\"}],\"parcoords\":[{\"line\":{\"colorbar\":{\"outlinewidth\":0,\"ticks\":\"\"}},\"type\":\"parcoords\"}],\"pie\":[{\"automargin\":true,\"type\":\"pie\"}],\"scatter\":[{\"marker\":{\"colorbar\":{\"outlinewidth\":0,\"ticks\":\"\"}},\"type\":\"scatter\"}],\"scatter3d\":[{\"line\":{\"colorbar\":{\"outlinewidth\":0,\"ticks\":\"\"}},\"marker\":{\"colorbar\":{\"outlinewidth\":0,\"ticks\":\"\"}},\"type\":\"scatter3d\"}],\"scattercarpet\":[{\"marker\":{\"colorbar\":{\"outlinewidth\":0,\"ticks\":\"\"}},\"type\":\"scattercarpet\"}],\"scattergeo\":[{\"marker\":{\"colorbar\":{\"outlinewidth\":0,\"ticks\":\"\"}},\"type\":\"scattergeo\"}],\"scattergl\":[{\"marker\":{\"colorbar\":{\"outlinewidth\":0,\"ticks\":\"\"}},\"type\":\"scattergl\"}],\"scattermapbox\":[{\"marker\":{\"colorbar\":{\"outlinewidth\":0,\"ticks\":\"\"}},\"type\":\"scattermapbox\"}],\"scatterpolar\":[{\"marker\":{\"colorbar\":{\"outlinewidth\":0,\"ticks\":\"\"}},\"type\":\"scatterpolar\"}],\"scatterpolargl\":[{\"marker\":{\"colorbar\":{\"outlinewidth\":0,\"ticks\":\"\"}},\"type\":\"scatterpolargl\"}],\"scatterternary\":[{\"marker\":{\"colorbar\":{\"outlinewidth\":0,\"ticks\":\"\"}},\"type\":\"scatterternary\"}],\"surface\":[{\"colorbar\":{\"outlinewidth\":0,\"ticks\":\"\"},\"colorscale\":[[0.0,\"#0d0887\"],[0.1111111111111111,\"#46039f\"],[0.2222222222222222,\"#7201a8\"],[0.3333333333333333,\"#9c179e\"],[0.4444444444444444,\"#bd3786\"],[0.5555555555555556,\"#d8576b\"],[0.6666666666666666,\"#ed7953\"],[0.7777777777777778,\"#fb9f3a\"],[0.8888888888888888,\"#fdca26\"],[1.0,\"#f0f921\"]],\"type\":\"surface\"}],\"table\":[{\"cells\":{\"fill\":{\"color\":\"#EBF0F8\"},\"line\":{\"color\":\"white\"}},\"header\":{\"fill\":{\"color\":\"#C8D4E3\"},\"line\":{\"color\":\"white\"}},\"type\":\"table\"}]},\"layout\":{\"annotationdefaults\":{\"arrowcolor\":\"#2a3f5f\",\"arrowhead\":0,\"arrowwidth\":1},\"autotypenumbers\":\"strict\",\"coloraxis\":{\"colorbar\":{\"outlinewidth\":0,\"ticks\":\"\"}},\"colorscale\":{\"diverging\":[[0,\"#8e0152\"],[0.1,\"#c51b7d\"],[0.2,\"#de77ae\"],[0.3,\"#f1b6da\"],[0.4,\"#fde0ef\"],[0.5,\"#f7f7f7\"],[0.6,\"#e6f5d0\"],[0.7,\"#b8e186\"],[0.8,\"#7fbc41\"],[0.9,\"#4d9221\"],[1,\"#276419\"]],\"sequential\":[[0.0,\"#0d0887\"],[0.1111111111111111,\"#46039f\"],[0.2222222222222222,\"#7201a8\"],[0.3333333333333333,\"#9c179e\"],[0.4444444444444444,\"#bd3786\"],[0.5555555555555556,\"#d8576b\"],[0.6666666666666666,\"#ed7953\"],[0.7777777777777778,\"#fb9f3a\"],[0.8888888888888888,\"#fdca26\"],[1.0,\"#f0f921\"]],\"sequentialminus\":[[0.0,\"#0d0887\"],[0.1111111111111111,\"#46039f\"],[0.2222222222222222,\"#7201a8\"],[0.3333333333333333,\"#9c179e\"],[0.4444444444444444,\"#bd3786\"],[0.5555555555555556,\"#d8576b\"],[0.6666666666666666,\"#ed7953\"],[0.7777777777777778,\"#fb9f3a\"],[0.8888888888888888,\"#fdca26\"],[1.0,\"#f0f921\"]]},\"colorway\":[\"#636efa\",\"#EF553B\",\"#00cc96\",\"#ab63fa\",\"#FFA15A\",\"#19d3f3\",\"#FF6692\",\"#B6E880\",\"#FF97FF\",\"#FECB52\"],\"font\":{\"color\":\"#2a3f5f\"},\"geo\":{\"bgcolor\":\"white\",\"lakecolor\":\"white\",\"landcolor\":\"#E5ECF6\",\"showlakes\":true,\"showland\":true,\"subunitcolor\":\"white\"},\"hoverlabel\":{\"align\":\"left\"},\"hovermode\":\"closest\",\"mapbox\":{\"style\":\"light\"},\"paper_bgcolor\":\"white\",\"plot_bgcolor\":\"#E5ECF6\",\"polar\":{\"angularaxis\":{\"gridcolor\":\"white\",\"linecolor\":\"white\",\"ticks\":\"\"},\"bgcolor\":\"#E5ECF6\",\"radialaxis\":{\"gridcolor\":\"white\",\"linecolor\":\"white\",\"ticks\":\"\"}},\"scene\":{\"xaxis\":{\"backgroundcolor\":\"#E5ECF6\",\"gridcolor\":\"white\",\"gridwidth\":2,\"linecolor\":\"white\",\"showbackground\":true,\"ticks\":\"\",\"zerolinecolor\":\"white\"},\"yaxis\":{\"backgroundcolor\":\"#E5ECF6\",\"gridcolor\":\"white\",\"gridwidth\":2,\"linecolor\":\"white\",\"showbackground\":true,\"ticks\":\"\",\"zerolinecolor\":\"white\"},\"zaxis\":{\"backgroundcolor\":\"#E5ECF6\",\"gridcolor\":\"white\",\"gridwidth\":2,\"linecolor\":\"white\",\"showbackground\":true,\"ticks\":\"\",\"zerolinecolor\":\"white\"}},\"shapedefaults\":{\"line\":{\"color\":\"#2a3f5f\"}},\"ternary\":{\"aaxis\":{\"gridcolor\":\"white\",\"linecolor\":\"white\",\"ticks\":\"\"},\"baxis\":{\"gridcolor\":\"white\",\"linecolor\":\"white\",\"ticks\":\"\"},\"bgcolor\":\"#E5ECF6\",\"caxis\":{\"gridcolor\":\"white\",\"linecolor\":\"white\",\"ticks\":\"\"}},\"title\":{\"x\":0.05},\"xaxis\":{\"automargin\":true,\"gridcolor\":\"white\",\"linecolor\":\"white\",\"ticks\":\"\",\"title\":{\"standoff\":15},\"zerolinecolor\":\"white\",\"zerolinewidth\":2},\"yaxis\":{\"automargin\":true,\"gridcolor\":\"white\",\"linecolor\":\"white\",\"ticks\":\"\",\"title\":{\"standoff\":15},\"zerolinecolor\":\"white\",\"zerolinewidth\":2}}},\"scene\":{\"xaxis\":{\"title\":{\"text\":\"Lado Mapa\"}},\"yaxis\":{\"title\":{\"text\":\"Lado Mapa\"}},\"zaxis\":{\"title\":{\"text\":\"Identificador del Pa\\u00eds\"}}}},                        {\"responsive\": true}                    ).then(function(){\n",
              "                            \n",
              "var gd = document.getElementById('d83cc942-d1ff-4808-84af-e22f741a24a9');\n",
              "var x = new MutationObserver(function (mutations, observer) {{\n",
              "        var display = window.getComputedStyle(gd).display;\n",
              "        if (!display || display === 'none') {{\n",
              "            console.log([gd, 'removed!']);\n",
              "            Plotly.purge(gd);\n",
              "            observer.disconnect();\n",
              "        }}\n",
              "}});\n",
              "\n",
              "// Listen for the removal of the full notebook cells\n",
              "var notebookContainer = gd.closest('#notebook-container');\n",
              "if (notebookContainer) {{\n",
              "    x.observe(notebookContainer, {childList: true});\n",
              "}}\n",
              "\n",
              "// Listen for the clearing of the current output cell\n",
              "var outputEl = gd.closest('.output');\n",
              "if (outputEl) {{\n",
              "    x.observe(outputEl, {childList: true});\n",
              "}}\n",
              "\n",
              "                        })                };                            </script>        </div>\n",
              "</body>\n",
              "</html>"
            ]
          },
          "metadata": {}
        }
      ],
      "source": [
        "clasificar_SOM(datos, matriz_pesos, mapa_clasificacion, mapa_activaciones, mapa_distancias, error_c, error_t, clases)\n",
        "#print(clases)\n",
        "#print(mapa_clasificacion)\n",
        "#print(mapa_activaciones)\n",
        "#histograma_3D(mapa_activaciones)\n",
        "#print(mapa_distancias)\n",
        "#print(error_c)\n",
        "#print(error_t)\n",
        "m_venn = entradas_2_pais(mapa_clasificacion)\n",
        "print(m_venn.shape)\n",
        "scatter(m_venn)"
      ]
    },
    {
      "cell_type": "markdown",
      "metadata": {
        "id": "xT31yZz7IBf9"
      },
      "source": [
        "## SOM Prueba"
      ]
    },
    {
      "cell_type": "code",
      "execution_count": null,
      "metadata": {
        "id": "7NNIDt3rIBf9"
      },
      "outputs": [],
      "source": []
    },
    {
      "cell_type": "markdown",
      "metadata": {
        "id": "nTPazBKYIBf9"
      },
      "source": [
        "\n",
        "# Anexos\n",
        "## Tecnologías utilizadas\n",
        "\n",
        "+ [Anaconda's Python 3.9](https://www.anaconda.com/products/individual \"Versión de Python\")\n",
        "+ [Anaconda's Numpy](https://anaconda.org/anaconda/numpy \"Librería Numérica\")\n",
        "+ [Anaconda's Matplotlib](https://anaconda.org/conda-forge/matplotlib \"Librería Gráfica\")\n",
        "+ [Anaconda's Pandas](https://pandas.pydata.org/docs/index.html \"Librería para DataFrames\")\n",
        "+ [Jupyter](https://jupyter.org/ \"Editor a utilizar\")\n",
        "\n",
        "## Referecias\n",
        "\n",
        "- https://medium.com/@abhinavr8/self-organizing-maps-ff5853a118d4#:~:text=Best%20Matching%20Unit%20is%20a,shortest%20distance%20is%20the%20winner.\n",
        "- https://stats.stackexchange.com/questions/179026/objective-function-cost-function-loss-function-are-they-the-same-thing\n",
        "- https://stackoverflow.com/questions/7872099/why-is-there-a-need-for-the-number-of-iterations-in-the-self-organizing-map\n",
        "- https://www.cs.hmc.edu/~kpang/nn/som.html#algor\n",
        "- https://www.geeksforgeeks.org/self-organising-maps-kohonen-maps/\n",
        "- https://en.wikipedia.org/wiki/Self-organizing_map\n",
        "- https://towardsdatascience.com/kohonen-self-organizing-maps-a29040d688da\n",
        "\n",
        "### Plotting\n",
        "\n",
        "- https://towardsdatascience.com/matplotlib-animations-in-jupyter-notebook-4422e4f0e389"
      ]
    },
    {
      "cell_type": "markdown",
      "metadata": {
        "id": "L4cVncaTIBf9"
      },
      "source": []
    }
  ],
  "metadata": {
    "anaconda-cloud": {},
    "kernelspec": {
      "display_name": "base",
      "language": "python",
      "name": "python3"
    },
    "language_info": {
      "codemirror_mode": {
        "name": "ipython",
        "version": 3
      },
      "file_extension": ".py",
      "mimetype": "text/x-python",
      "name": "python",
      "nbconvert_exporter": "python",
      "pygments_lexer": "ipython3",
      "version": "3.10.8"
    },
    "vscode": {
      "interpreter": {
        "hash": "ad80b1ec7ca231dd61af6019c952a81d9514b136d11cd1fe1f78814a82437d11"
      }
    },
    "colab": {
      "provenance": []
    },
    "accelerator": "GPU",
    "gpuClass": "standard"
  },
  "nbformat": 4,
  "nbformat_minor": 0
}